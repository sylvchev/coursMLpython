{
 "metadata": {
  "name": ""
 },
 "nbformat": 3,
 "nbformat_minor": 0,
 "worksheets": [
  {
   "cells": [
    {
     "cell_type": "code",
     "collapsed": false,
     "input": [
      "from __future__ import print_function"
     ],
     "language": "python",
     "metadata": {},
     "outputs": [],
     "prompt_number": 96
    },
    {
     "cell_type": "heading",
     "level": 1,
     "metadata": {},
     "source": [
      "Modules"
     ]
    },
    {
     "cell_type": "markdown",
     "metadata": {},
     "source": [
      "Les modules sont les porte d'acc\u00e8s aux biblioth\u00e8ques de Python. Vous trouverez les r\u00e9f\u00e9rences et le d\u00e9tails ici:\n",
      "\n",
      "* The Python Language Reference: http://docs.python.org/2/reference/index.html\n",
      "* The Python Standard Library: http://docs.python.org/2/library/\n",
      "\n",
      "Pour utiliser un module, il faut l'import avec la commande *import*. Voici un exemple pour importer le module de *math*, qui d\u00e9finit les fonctions math\u00e9matiques classiques:"
     ]
    },
    {
     "cell_type": "code",
     "collapsed": false,
     "input": [
      "import math"
     ],
     "language": "python",
     "metadata": {},
     "outputs": [],
     "prompt_number": 97
    },
    {
     "cell_type": "markdown",
     "metadata": {},
     "source": [
      "Il est possible d'utiliser les fonctions de *math* tout de suite apr\u00e8s, par exemple:"
     ]
    },
    {
     "cell_type": "code",
     "collapsed": false,
     "input": [
      "import math\n",
      "\n",
      "x = math.cos(2 * math.pi)\n",
      "\n",
      "print (x)"
     ],
     "language": "python",
     "metadata": {},
     "outputs": [
      {
       "output_type": "stream",
       "stream": "stdout",
       "text": [
        "1.0\n"
       ]
      }
     ],
     "prompt_number": 98
    },
    {
     "cell_type": "markdown",
     "metadata": {},
     "source": [
      "Apr\u00e8s l'import, il faut pr\u00e9fixer toutes les m\u00e9thodes et les objets, ce qui permet de lever des ambigu\u00eft\u00e9s \u00e0 la lecture d'un code. Mais comme c'est contraignant, il est possible d'importer tout le module dans le *namespace* courant :"
     ]
    },
    {
     "cell_type": "code",
     "collapsed": false,
     "input": [
      "from math import *\n",
      "\n",
      "x = cos(2 * pi)\n",
      "\n",
      "print(x)"
     ],
     "language": "python",
     "metadata": {},
     "outputs": [
      {
       "output_type": "stream",
       "stream": "stdout",
       "text": [
        "1.0\n"
       ]
      }
     ],
     "prompt_number": 99
    },
    {
     "cell_type": "markdown",
     "metadata": {},
     "source": [
      "Pour concilier le meilleur des deux mondes, la bonne pratique recommand\u00e9e est d'importer uniquement les m\u00e9thodes n\u00e9cessaires :"
     ]
    },
    {
     "cell_type": "code",
     "collapsed": false,
     "input": [
      "from math import cos, pi\n",
      "\n",
      "x = cos(2 * pi)\n",
      "\n",
      "print(x)"
     ],
     "language": "python",
     "metadata": {},
     "outputs": [
      {
       "output_type": "stream",
       "stream": "stdout",
       "text": [
        "1.0\n"
       ]
      }
     ],
     "prompt_number": 100
    },
    {
     "cell_type": "heading",
     "level": 1,
     "metadata": {},
     "source": [
      "Obtenir de l'aide en ligne"
     ]
    },
    {
     "cell_type": "markdown",
     "metadata": {},
     "source": [
      "Pour obtenir de l'aide en ligne avec IPython, vous pouvez taper un ? directement apr\u00e8s l'objet, ou taper *help(objet)*"
     ]
    },
    {
     "cell_type": "code",
     "collapsed": false,
     "input": [
      "help(math.log)"
     ],
     "language": "python",
     "metadata": {},
     "outputs": [
      {
       "output_type": "stream",
       "stream": "stdout",
       "text": [
        "Help on built-in function log in module math:\n",
        "\n",
        "log(...)\n",
        "    log(x[, base])\n",
        "    \n",
        "    Return the logarithm of x to the given base.\n",
        "    If the base not specified, returns the natural logarithm (base e) of x.\n",
        "\n"
       ]
      }
     ],
     "prompt_number": 101
    },
    {
     "cell_type": "code",
     "collapsed": false,
     "input": [
      "math.exp?"
     ],
     "language": "python",
     "metadata": {},
     "outputs": [],
     "prompt_number": 102
    },
    {
     "cell_type": "markdown",
     "metadata": {},
     "source": [
      "Il est aussi possible de demander de l'aide sur un module, par exemple avec *help(math)*."
     ]
    },
    {
     "cell_type": "heading",
     "level": 1,
     "metadata": {},
     "source": [
      "Variables"
     ]
    },
    {
     "cell_type": "heading",
     "level": 2,
     "metadata": {},
     "source": [
      "Typage"
     ]
    },
    {
     "cell_type": "markdown",
     "metadata": {},
     "source": [
      "Les variables sont dynamiquement typ\u00e9es, pas besoin de pr\u00e9ciser si c'est un entier ou un r\u00e9el."
     ]
    },
    {
     "cell_type": "code",
     "collapsed": false,
     "input": [
      "type(x)"
     ],
     "language": "python",
     "metadata": {},
     "outputs": [
      {
       "metadata": {},
       "output_type": "pyout",
       "prompt_number": 103,
       "text": [
        "float"
       ]
      }
     ],
     "prompt_number": 103
    },
    {
     "cell_type": "code",
     "collapsed": false,
     "input": [
      "x = 1\n",
      "type(x)"
     ],
     "language": "python",
     "metadata": {},
     "outputs": [
      {
       "metadata": {},
       "output_type": "pyout",
       "prompt_number": 104,
       "text": [
        "int"
       ]
      }
     ],
     "prompt_number": 104
    },
    {
     "cell_type": "heading",
     "level": 2,
     "metadata": {},
     "source": [
      "Les cha\u00eenes de caract\u00e8res"
     ]
    },
    {
     "cell_type": "markdown",
     "metadata": {},
     "source": [
      "Les cha\u00eenes de caract\u00e8res sont born\u00e9es par des ' ' ou des \" \". On peut conna\u00eetre sa longeur avec *len()*, pour avoir une id\u00e9e des principales m\u00e9thodes, il suffit d'utiliser l'auto-compl\u00e9tion avec tab."
     ]
    },
    {
     "cell_type": "code",
     "collapsed": false,
     "input": [
      "s = \"une cha\u00eene de caract\u00e8res\"\n",
      "print ('taille de la chaine :',len(s))\n",
      "s2 = s.replace('une', 'la')\n",
      "print (s2)"
     ],
     "language": "python",
     "metadata": {},
     "outputs": [
      {
       "output_type": "stream",
       "stream": "stdout",
       "text": [
        "taille de la chaine : 26\n",
        "la cha\u00eene de caract\u00e8res\n"
       ]
      }
     ],
     "prompt_number": 105
    },
    {
     "cell_type": "markdown",
     "metadata": {},
     "source": [
      "La cha\u00eene de caract\u00e8re est un tableau, on acc\u00e8de au \u00e9l\u00e9ment du tableau avec [ ]. Attention, pour les utilisateurs de MATLAB, en Python les tableaux commencent toujours \u00e0 partir de 0. On peut utiliser la syntaxe compl\u00e8te [d\u00e9but:incr\u00e9ment:fin] "
     ]
    },
    {
     "cell_type": "code",
     "collapsed": false,
     "input": [
      "print (r'Le premier caract\u00e8re est :'+ s[0])\n",
      "print (r'Les 10 premiers caract\u00e8res sont :'+s[:11])\n",
      "print (r'Les caract\u00e8res suivants sont :'+s[11:])\n",
      "print (r'Le dernier caract\u00e8re est :'+s[-1])\n",
      "print (r'Avec un caract\u00e8re sur deux :'+s[::2])"
     ],
     "language": "python",
     "metadata": {},
     "outputs": [
      {
       "output_type": "stream",
       "stream": "stdout",
       "text": [
        "Le premier caract\u00e8re est :u\n",
        "Les 10 premiers caract\u00e8res sont :une cha\u00eene\n",
        "Les caract\u00e8res suivants sont : de caract\u00e8res\n",
        "Le dernier caract\u00e8re est :s\n",
        "Avec un caract\u00e8re sur deux :ueca\ufffded aat\ufffde\n"
       ]
      }
     ],
     "prompt_number": 106
    },
    {
     "cell_type": "heading",
     "level": 2,
     "metadata": {},
     "source": [
      "Les listes"
     ]
    },
    {
     "cell_type": "markdown",
     "metadata": {},
     "source": [
      "On peut arranger n'importe quel nombre d'\u00e9l\u00e9ments dans une liste. "
     ]
    },
    {
     "cell_type": "code",
     "collapsed": false,
     "input": [
      "l = ['spam', 'eggs', 100, 1234]\n",
      "\n",
      "print (type(l))\n",
      "print ('la liste est :', l)\n",
      "print ('le premier \u00e9l\u00e9ment de la liste est:', l[0])\n",
      "print ('Les 2 premiers \u00e9l\u00e9ments de la liste sont', l[:2])\n",
      "print ('Le dernier \u00e9l\u00e9ment de la liste est', l[:-1])"
     ],
     "language": "python",
     "metadata": {},
     "outputs": [
      {
       "output_type": "stream",
       "stream": "stdout",
       "text": [
        "<type 'list'>\n",
        "la liste est : ['spam', 'eggs', 100, 1234]\n",
        "le premier \u00e9l\u00e9ment de la liste est: spam\n",
        "Les 2 premiers \u00e9l\u00e9ments de la liste sont ['spam', 'eggs']\n",
        "Le dernier \u00e9l\u00e9ment de la liste est ['spam', 'eggs', 100]\n"
       ]
      }
     ],
     "prompt_number": 107
    },
    {
     "cell_type": "markdown",
     "metadata": {},
     "source": [
      "Une liste peut \u00eatre modifi\u00e9e, concaten\u00e9e, d\u00e9coup\u00e9e, etc."
     ]
    },
    {
     "cell_type": "code",
     "collapsed": false,
     "input": [
      "l + ['bacon', 12345]"
     ],
     "language": "python",
     "metadata": {},
     "outputs": [
      {
       "metadata": {},
       "output_type": "pyout",
       "prompt_number": 108,
       "text": [
        "['spam', 'eggs', 100, 1234, 'bacon', 12345]"
       ]
      }
     ],
     "prompt_number": 108
    },
    {
     "cell_type": "code",
     "collapsed": false,
     "input": [
      "3*l[:3] + ['He!']"
     ],
     "language": "python",
     "metadata": {},
     "outputs": [
      {
       "metadata": {},
       "output_type": "pyout",
       "prompt_number": 109,
       "text": [
        "['spam', 'eggs', 100, 'spam', 'eggs', 100, 'spam', 'eggs', 100, 'He!']"
       ]
      }
     ],
     "prompt_number": 109
    },
    {
     "cell_type": "code",
     "collapsed": false,
     "input": [
      "l[2] = l[2] + 23\n",
      "print(l)"
     ],
     "language": "python",
     "metadata": {},
     "outputs": [
      {
       "output_type": "stream",
       "stream": "stdout",
       "text": [
        "['spam', 'eggs', 123, 1234]\n"
       ]
      }
     ],
     "prompt_number": 110
    },
    {
     "cell_type": "code",
     "collapsed": false,
     "input": [
      "q = [2, 3]\n",
      "p = [1, q, 4]\n",
      "\n",
      "print ('La taille de la liste p est', len(p), \"et c'est :\", p)\n",
      "print ('Le premier \u00e9l\u00e9ment de la liste en 2e position est:', p[1][0]) "
     ],
     "language": "python",
     "metadata": {},
     "outputs": [
      {
       "output_type": "stream",
       "stream": "stdout",
       "text": [
        "La taille de la liste p est 3 et c'est : [1, [2, 3], 4]\n",
        "Le premier \u00e9l\u00e9ment de la liste en 2e position est: 2\n"
       ]
      }
     ],
     "prompt_number": 111
    },
    {
     "cell_type": "code",
     "collapsed": false,
     "input": [
      "l = []\n",
      "l.append('p')\n",
      "l.append('o')\n",
      "l.append('t')\n",
      "\n",
      "print (l)\n",
      "l.sort()\n",
      "print (l)\n",
      "\n",
      "l.insert(0,'c')\n",
      "l.insert(1,'o')\n",
      "print (l)\n",
      "\n",
      "l.remove('t')\n",
      "print (l)"
     ],
     "language": "python",
     "metadata": {},
     "outputs": [
      {
       "output_type": "stream",
       "stream": "stdout",
       "text": [
        "['p', 'o', 't']\n",
        "['o', 'p', 't']\n",
        "['c', 'o', 'o', 'p', 't']\n",
        "['c', 'o', 'o', 'p']\n"
       ]
      }
     ],
     "prompt_number": 112
    },
    {
     "cell_type": "heading",
     "level": 1,
     "metadata": {},
     "source": [
      "Contr\u00f4les d'ex\u00e9cution"
     ]
    },
    {
     "cell_type": "heading",
     "level": 2,
     "metadata": {},
     "source": [
      "Test conditionnel"
     ]
    },
    {
     "cell_type": "code",
     "collapsed": false,
     "input": [
      "statement1 = False\n",
      "statement2 = False\n",
      "\n",
      "if statement1:\n",
      "    print(\"statement1 is True\")\n",
      "    \n",
      "elif statement2:\n",
      "    print(\"statement2 is True\")\n",
      "    \n",
      "else:\n",
      "    print(\"statement1 and statement2 are False\")"
     ],
     "language": "python",
     "metadata": {},
     "outputs": [
      {
       "output_type": "stream",
       "stream": "stdout",
       "text": [
        "statement1 and statement2 are False\n"
       ]
      }
     ],
     "prompt_number": 113
    },
    {
     "cell_type": "markdown",
     "metadata": {},
     "source": [
      "Le python utilise l'indentation pour d\u00e9terminer la port\u00e9e des contr\u00f4les, il n'y a pas de {} ou de ()."
     ]
    },
    {
     "cell_type": "code",
     "collapsed": false,
     "input": [
      "statement1 = statement2 = True\n",
      "\n",
      "if statement1:\n",
      "    if statement2:\n",
      "    print(\"both statement1 and statement2 are True\") # ligne mal indent\u00e9e"
     ],
     "language": "python",
     "metadata": {},
     "outputs": [
      {
       "ename": "IndentationError",
       "evalue": "expected an indented block (<ipython-input-114-d3561dde0fa5>, line 5)",
       "output_type": "pyerr",
       "traceback": [
        "\u001b[0;36m  File \u001b[0;32m\"<ipython-input-114-d3561dde0fa5>\"\u001b[0;36m, line \u001b[0;32m5\u001b[0m\n\u001b[0;31m    print(\"both statement1 and statement2 are True\") # ligne mal indent\u00e9e\u001b[0m\n\u001b[0m        ^\u001b[0m\n\u001b[0;31mIndentationError\u001b[0m\u001b[0;31m:\u001b[0m expected an indented block\n"
       ]
      }
     ],
     "prompt_number": 114
    },
    {
     "cell_type": "heading",
     "level": 2,
     "metadata": {},
     "source": [
      "Boucles"
     ]
    },
    {
     "cell_type": "markdown",
     "metadata": {},
     "source": [
      "Les boucles *for* utilisent une syntaxe simple:"
     ]
    },
    {
     "cell_type": "code",
     "collapsed": false,
     "input": [
      "for x in [1,2,3]:\n",
      "    print(x, end=' ')\n",
      "\n"
     ],
     "language": "python",
     "metadata": {},
     "outputs": [
      {
       "output_type": "stream",
       "stream": "stdout",
       "text": [
        "1 2 3 "
       ]
      }
     ],
     "prompt_number": 115
    },
    {
     "cell_type": "markdown",
     "metadata": {},
     "source": [
      "On a souvent recours \u00e0 la fonction *range([[debut,]incr\u00e9ment,]fin)* dans les boucles. Attention, elle commence \u00e0 zero et finit avant *fin*. Par exemple, *range(4)* va de z\u00e9ro \u00e0 3 mais l'inclut pas 4."
     ]
    },
    {
     "cell_type": "code",
     "collapsed": false,
     "input": [
      "for x in range(4): # by default range start at 0\n",
      "    print(x, end=' ')\n",
      "print()\n",
      "\n",
      "for x in range(-3,3):\n",
      "    print(x, end=' ')\n",
      "print()\n",
      "\n",
      "for word in [\"scientific\", \"computing\", \"with\", \"python\"]:\n",
      "    print(word, end=' ')\n",
      "print()"
     ],
     "language": "python",
     "metadata": {},
     "outputs": [
      {
       "output_type": "stream",
       "stream": "stdout",
       "text": [
        "0 1 2 3 \n",
        "-3 -2 -1 0 1 2 \n",
        "scientific computing with python \n"
       ]
      }
     ],
     "prompt_number": 116
    },
    {
     "cell_type": "markdown",
     "metadata": {},
     "source": [
      "La fonction *enumerate* est parfois utile pour les boucles."
     ]
    },
    {
     "cell_type": "code",
     "collapsed": false,
     "input": [
      "mes_notes = [15, 12, 8, 16, 13]\n",
      "for i, note in enumerate(mes_notes):\n",
      "    print ('Note', i, ':', note)"
     ],
     "language": "python",
     "metadata": {},
     "outputs": [
      {
       "output_type": "stream",
       "stream": "stdout",
       "text": [
        "Note 0 : 15\n",
        "Note 1 : 12\n",
        "Note 2 : 8\n",
        "Note 3 : 16\n",
        "Note 4 : 13\n"
       ]
      }
     ],
     "prompt_number": 117
    },
    {
     "cell_type": "markdown",
     "metadata": {},
     "source": [
      "La boucle tant que ne pr\u00e9sente pas de surprise:"
     ]
    },
    {
     "cell_type": "code",
     "collapsed": false,
     "input": [
      "i = 0\n",
      "\n",
      "while i < 5:\n",
      "    print(i, end=' ')\n",
      "    \n",
      "    i = i + 1\n",
      "    \n",
      "print(\"\\ndone\")"
     ],
     "language": "python",
     "metadata": {},
     "outputs": [
      {
       "output_type": "stream",
       "stream": "stdout",
       "text": [
        "0 1 2 3 4 \n",
        "done\n"
       ]
      }
     ],
     "prompt_number": 118
    },
    {
     "cell_type": "heading",
     "level": 2,
     "metadata": {},
     "source": [
      "Fonctions"
     ]
    },
    {
     "cell_type": "code",
     "collapsed": false,
     "input": [
      "def func0():   \n",
      "    print(\"test\")"
     ],
     "language": "python",
     "metadata": {},
     "outputs": [],
     "prompt_number": 119
    },
    {
     "cell_type": "code",
     "collapsed": false,
     "input": [
      "func0()"
     ],
     "language": "python",
     "metadata": {},
     "outputs": [
      {
       "output_type": "stream",
       "stream": "stdout",
       "text": [
        "test\n"
       ]
      }
     ],
     "prompt_number": 120
    },
    {
     "cell_type": "markdown",
     "metadata": {},
     "source": [
      "Il vaut mieux prendre les bonnes habitudes tout de suite et documenter les fonctions avec des docstrings, des cha\u00eenes de caract\u00e8res situ\u00e9es juste apr\u00e8s la d\u00e9finition de la fonction."
     ]
    },
    {
     "cell_type": "code",
     "collapsed": false,
     "input": [
      "def func1(s):\n",
      "    \"\"\"\n",
      "    Affiche une string 's' et indique son nombre de caract\u00e8res\n",
      "    \"\"\"\n",
      "    \n",
      "    print(s + \" a \" + str(len(s)) + \" caract\u00e8res\")"
     ],
     "language": "python",
     "metadata": {},
     "outputs": [],
     "prompt_number": 121
    },
    {
     "cell_type": "code",
     "collapsed": false,
     "input": [
      "help(func1)\n",
      "func1(\"toto\")"
     ],
     "language": "python",
     "metadata": {},
     "outputs": [
      {
       "output_type": "stream",
       "stream": "stdout",
       "text": [
        "Help on function func1 in module __main__:\n",
        "\n",
        "func1(s)\n",
        "    Affiche une string 's' et indique son nombre de caract\u00e8res\n",
        "\n",
        "toto a 4 caract\u00e8res\n"
       ]
      }
     ],
     "prompt_number": 122
    },
    {
     "cell_type": "markdown",
     "metadata": {},
     "source": [
      "Une fonction peut retourner une ou plusieurs valeurs:"
     ]
    },
    {
     "cell_type": "code",
     "collapsed": false,
     "input": [
      "def carre(x):\n",
      "    \"\"\"\n",
      "    Retourne le carr\u00e9 de x.\n",
      "    \"\"\"\n",
      "    return x ** 2\n",
      "\n",
      "def puissance(x):\n",
      "    \"\"\"\n",
      "    Retourne  quelques puissances de x.\n",
      "    \"\"\"\n",
      "    return x ** 2, x ** 3, x ** 4\n",
      "\n",
      "print ('Le carr\u00e9 de 3 est', carre(3))\n",
      "x2, x3, x4 = powers(16)\n",
      "print('Les premi\u00e8res puissances de 16 sont:', x2, x3, x4)"
     ],
     "language": "python",
     "metadata": {},
     "outputs": [
      {
       "output_type": "stream",
       "stream": "stdout",
       "text": [
        "Le carr\u00e9 de 3 est 9\n",
        "Les premi\u00e8res puissances de 16 sont: 256 4096 65536\n"
       ]
      }
     ],
     "prompt_number": 123
    },
    {
     "cell_type": "markdown",
     "metadata": {},
     "source": [
      "Il est possible de donner des arguments par d\u00e9faut \u00e0 une fonction:"
     ]
    },
    {
     "cell_type": "code",
     "collapsed": false,
     "input": [
      "def mafonc(x, p=2, debug=False):\n",
      "    if debug:\n",
      "        print(\"evaluation de mafonc pour x = \" + str(x) + \" en utilisant comme exposant p = \" + str(p))\n",
      "    return x**p\n",
      "\n",
      "print ('Le r\u00e9sultat est :', mafonc(5))\n",
      "mafonc(5, debug=True)\n",
      "mafonc(p=3, debug=True, x=7)"
     ],
     "language": "python",
     "metadata": {},
     "outputs": [
      {
       "output_type": "stream",
       "stream": "stdout",
       "text": [
        "Le r\u00e9sultat est : 25\n",
        "evaluation de mafonc pour x = 5 en utilisant comme exposant p = 2\n",
        "evaluation de mafonc pour x = 7 en utilisant comme exposant p = 3\n"
       ]
      },
      {
       "metadata": {},
       "output_type": "pyout",
       "prompt_number": 124,
       "text": [
        "343"
       ]
      }
     ],
     "prompt_number": 124
    },
    {
     "cell_type": "markdown",
     "metadata": {},
     "source": [
      "Ce notebook est adaptation et modificatino de [celui](http://github.com/jrjohansson/scientific-python-lectures) de J.R. Johansson (robert@riken.jp) http://dml.riken.jp/~rob/, ainsi que du tutoriel Python de Guido van Rossum & Fred Drake."
     ]
    }
   ],
   "metadata": {}
  }
 ]
}