{
 "cells": [
  {
   "cell_type": "markdown",
   "metadata": {},
   "source": [
    "# Regression linéaire avec les moindres carrés"
   ]
  },
  {
   "cell_type": "code",
   "execution_count": null,
   "metadata": {
    "collapsed": false
   },
   "outputs": [],
   "source": [
    "% matplotlib inline\n",
    "from numpy import zeros, zeros_like, ones, vstack, mod, loadtxt\n",
    "import matplotlib.pyplot as plt\n",
    "from numpy.linalg import pinv"
   ]
  },
  {
   "cell_type": "markdown",
   "metadata": {},
   "source": [
    "## Introduction et notations"
   ]
  },
  {
   "cell_type": "markdown",
   "metadata": {},
   "source": [
    "On reprends les notations et les algorithmes du précédent notebook."
   ]
  },
  {
   "cell_type": "code",
   "execution_count": null,
   "metadata": {
    "collapsed": false
   },
   "outputs": [],
   "source": [
    "def h(theta, x):\n",
    "    y_estimated = 0.\n",
    "    for theta_i, x_i in zip(theta, x):\n",
    "        y_estimated += theta_i*x_i\n",
    "    return y_estimated"
   ]
  },
  {
   "cell_type": "code",
   "execution_count": null,
   "metadata": {
    "collapsed": false
   },
   "outputs": [],
   "source": [
    "def J(theta, X, Y):\n",
    "    cost = 0.\n",
    "    m = X.shape[0]\n",
    "    for x_i, y_i in zip(X, Y):\n",
    "        cost += (h(theta, x_i)  - y_i)**2\n",
    "    return 1./(2.*m)*cost"
   ]
  },
  {
   "cell_type": "code",
   "execution_count": null,
   "metadata": {
    "collapsed": false
   },
   "outputs": [],
   "source": [
    "def batch_update(theta, X, Y, alpha=0.01):\n",
    "    new_theta = zeros_like(theta)\n",
    "    m = X.shape[0]\n",
    "    for j, theta_j in enumerate(theta):\n",
    "        sum_derivative = 0.\n",
    "        for i, (x_i, y_i) in enumerate(zip(X,Y)):\n",
    "            sum_derivative += (y_i - h(theta,x_i))*x_i[j]\n",
    "        new_theta[j] = theta_j + alpha*(sum_derivative)\n",
    "    return new_theta"
   ]
  },
  {
   "cell_type": "code",
   "execution_count": null,
   "metadata": {
    "collapsed": false
   },
   "outputs": [],
   "source": [
    "def stochastic_update(theta, X, Y, alpha=0.01):\n",
    "    new_theta = theta.copy()\n",
    "    m = X.shape[0]\n",
    "    for i, (x_i, y_i) in enumerate(zip(X,Y)):\n",
    "        for j, theta_j in enumerate(new_theta):\n",
    "            new_theta[j] = new_theta[j] + alpha*(y_i - h(new_theta, x_i))*x_i[j]\n",
    "    return new_theta"
   ]
  },
  {
   "cell_type": "code",
   "execution_count": null,
   "metadata": {
    "collapsed": false
   },
   "outputs": [],
   "source": [
    "def normal_equation(X, Y):\n",
    "    return pinv(X.T.dot(X)).dot(X.T).dot(Y)"
   ]
  },
  {
   "cell_type": "markdown",
   "metadata": {},
   "source": [
    "## Application: estimation du salaire à Princeton"
   ]
  },
  {
   "cell_type": "markdown",
   "metadata": {},
   "source": [
    "Pour appliquer la régression linaire, nous allons d'abord charger un ensemble de données qui contient des informations sur les salaires à l'Université de Princeton. Les données brutes sont organisées de la façon suivante :\n",
    "\n",
    "* sx = sexe, encodé avec 1 pour les femmes et 0 pour les hommes\n",
    "\n",
    "* rk = rang, encodé avec 1 pour *assistant professor*, 2 pour *associate professor*, et 3 pour *full professor* \n",
    "\n",
    "* yr = nombre d'années dans le rang courant\n",
    "\n",
    "* dg = plus haut diplôme, 1 pour le doctorat, 0 pour le master\n",
    "\n",
    "* yd = nombre d'années depuis que le dernier diplôme a été obtenu\n",
    "\n",
    "* sl = salaire annuel universitaire, en US dollar \n",
    "\n",
    "Les données sont librement accessible sur http://data.princeton.edu/wws509/datasets/#salary"
   ]
  },
  {
   "cell_type": "code",
   "execution_count": null,
   "metadata": {
    "collapsed": false
   },
   "outputs": [],
   "source": [
    "!wget http://data.princeton.edu/wws509/datasets/salary.raw\n",
    "raw_data = loadtxt('salary.raw')\n",
    "print (raw_data[0:3, :].astype(int))"
   ]
  },
  {
   "cell_type": "markdown",
   "metadata": {},
   "source": [
    "Nous sommes pour l'instant intéressé uniquement par les années en poste et les salaires. On trie les données en fonction des années en poste et on affiche le tout."
   ]
  },
  {
   "cell_type": "code",
   "execution_count": null,
   "metadata": {
    "collapsed": false
   },
   "outputs": [],
   "source": [
    "year_column = 2\n",
    "salary_column = 5\n",
    "\n",
    "year_min = -1; year_max = 26\n",
    "salary_min = 10000; salary_max = 40000\n",
    "\n",
    "data = raw_data[:, [year_column, salary_column]]\n",
    "\n",
    "def plot_salaires(X, Y, color=None, label=None):\n",
    "    if color is not None:\n",
    "        plt.plot(X, Y, color+'o', alpha=0.5, label=label)\n",
    "    else:\n",
    "        plt.plot(X, Y, 'ok', alpha=0.5)\n",
    "    plt.title(u'Salaires universitaires à Princeton')\n",
    "    plt.xlabel(u'Carrière universitaire (années)')\n",
    "    plt.ylabel(u'Salaire annuel ($)')\n",
    "    plt.xlim((year_min, year_max))\n",
    "    plt.ylim((salary_min, salary_max))\n",
    "    if label is not None:\n",
    "        plt.legend(loc='lower right')\n",
    "        \n",
    "def plot_regression(theta, color='b-', alpha=1):\n",
    "    plt.plot([year_min, year_max], [h(theta, [1, year_min]), h(theta, [1, year_max])], \n",
    "             color, alpha=alpha)\n",
    "    \n",
    "plot_salaires(data[:,0], data[:,1])"
   ]
  },
  {
   "cell_type": "markdown",
   "metadata": {},
   "source": [
    "On applique notre algorithme *batch* avec des iterations successives:"
   ]
  },
  {
   "cell_type": "code",
   "execution_count": null,
   "metadata": {
    "collapsed": false
   },
   "outputs": [],
   "source": [
    "m = data.shape[0]\n",
    "n = data.shape[1]\n",
    "\n",
    "X = ones(shape=(m, 2))\n",
    "X[:,1] = data[:,0]\n",
    "Y = data[:, 1]\n",
    "theta = zeros(shape=(n, 1))\n",
    "\n",
    "plot_salaires(X[:,1], Y)\n",
    "\n",
    "alpha = 0.0002\n",
    "iteration = 1000\n",
    "J_batch = zeros(iteration)\n",
    "for i in range(iteration):\n",
    "    theta = batch_update(theta, X, Y, alpha)\n",
    "    J_batch[i] =  J(theta, X, Y)\n",
    "    if (mod(i, iteration/10) == 0):\n",
    "        plot_regression(theta, 'b-', alpha=float(i)/iteration)\n",
    "plot_regression(theta, 'k-')"
   ]
  },
  {
   "cell_type": "markdown",
   "metadata": {},
   "source": [
    "On cherche maintenant effectuer la régression linéaire avec l'algorithme stochastique"
   ]
  },
  {
   "cell_type": "code",
   "execution_count": null,
   "metadata": {
    "collapsed": false
   },
   "outputs": [],
   "source": [
    "plot_salaires(X[:,1], Y)\n",
    "\n",
    "theta = zeros(shape=(n, 1))\n",
    "alpha = 0.001\n",
    "iteration = 400\n",
    "J_stochastic = zeros(iteration)\n",
    "for i in range(iteration):\n",
    "    theta = stochastic_update(theta, X, Y, alpha)\n",
    "    J_stochastic[i] =  J(theta, X, Y)\n",
    "    if (mod(i, iteration/10) == 0):        \n",
    "        plot_regression(theta, 'r-', alpha=float(i)/iteration)\n",
    "plot_regression(theta, 'k-')"
   ]
  },
  {
   "cell_type": "markdown",
   "metadata": {},
   "source": [
    "Comparons maintenant la vitesse de convergence des algorithmes"
   ]
  },
  {
   "cell_type": "code",
   "execution_count": null,
   "metadata": {
    "collapsed": false
   },
   "outputs": [],
   "source": [
    "plt.figure()\n",
    "f = plt.plot(J_batch, 'b', label='batch')\n",
    "g = plt.plot(J_stochastic, 'r', label='stochastic')\n",
    "plt.title('Convergence of cost function')\n",
    "plt.xlabel('iterations')\n",
    "plt.ylabel('error')\n",
    "plt.legend()"
   ]
  },
  {
   "cell_type": "markdown",
   "metadata": {},
   "source": [
    "Regardons maintenant la solution obtenue avec l'équation normale:"
   ]
  },
  {
   "cell_type": "code",
   "execution_count": null,
   "metadata": {
    "collapsed": false
   },
   "outputs": [],
   "source": [
    "plot_salaires(X[:,1], Y)\n",
    "theta = normal_equation(X, Y)\n",
    "plot_regression(theta, 'g-')"
   ]
  },
  {
   "cell_type": "markdown",
   "metadata": {},
   "source": [
    "## Discrimination salariale Femme/Homme"
   ]
  },
  {
   "cell_type": "markdown",
   "metadata": {},
   "source": [
    "Nous pouvons également effectuer la regression sur les salaires des hommes et sur celui des femmes."
   ]
  },
  {
   "cell_type": "code",
   "execution_count": null,
   "metadata": {
    "collapsed": false
   },
   "outputs": [],
   "source": [
    "sex = 0\n",
    "men = 0\n",
    "women = 1\n",
    "\n",
    "men_index = raw_data[:, sex] == men\n",
    "X_men = ones(shape=(men_index.sum(), 2))\n",
    "X_men[:,1] = raw_data[men_index, year_column]\n",
    "Y_men = raw_data[men_index, salary_column]\n",
    "theta_men = normal_equation(X_men, Y_men)\n",
    "\n",
    "women_index = raw_data[:, sex] == women\n",
    "X_women = ones(shape=(women_index.sum(), 2))\n",
    "X_women[:,1] = raw_data[women_index, year_column]\n",
    "Y_women = raw_data[women_index, salary_column]\n",
    "theta_women = normal_equation(X_women, Y_women)"
   ]
  },
  {
   "cell_type": "markdown",
   "metadata": {},
   "source": [
    "Comparons le résultat:"
   ]
  },
  {
   "cell_type": "code",
   "execution_count": null,
   "metadata": {
    "collapsed": false
   },
   "outputs": [],
   "source": [
    "plot_salaires(X_men[:, 1], Y_men, color='b', label='Homme')\n",
    "plot_regression(theta_men, 'b-')\n",
    "plot_salaires(X_women[:, 1], Y_women, color='r', label='Femme')\n",
    "plot_regression(theta_women, 'r-')"
   ]
  },
  {
   "cell_type": "markdown",
   "metadata": {},
   "source": [
    "On peut voir que la progression de salaire moyen en fonction du sexe est plus avantageux pour les femmes. Attention, cette conclusion est très spécifique :\n",
    "\n",
    "* Il y a beaucoup moins de femmes que d'hommes dans les données\n",
    "* Cette analyse utilise uniquement les années de carrière et ne tient pas compte du niveau d'étude"
   ]
  }
 ],
 "metadata": {
  "kernelspec": {
   "display_name": "Python [Root]",
   "language": "python",
   "name": "Python [Root]"
  },
  "language_info": {
   "codemirror_mode": {
    "name": "ipython",
    "version": 2
   },
   "file_extension": ".py",
   "mimetype": "text/x-python",
   "name": "python",
   "nbconvert_exporter": "python",
   "pygments_lexer": "ipython2",
   "version": "2.7.12"
  }
 },
 "nbformat": 4,
 "nbformat_minor": 0
}
