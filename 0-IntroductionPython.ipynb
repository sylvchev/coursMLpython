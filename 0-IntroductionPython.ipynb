{
 "cells": [
  {
   "cell_type": "code",
   "execution_count": null,
   "metadata": {
    "collapsed": false
   },
   "outputs": [],
   "source": [
    "from __future__ import print_function"
   ]
  },
  {
   "cell_type": "markdown",
   "metadata": {},
   "source": [
    "# Modules"
   ]
  },
  {
   "cell_type": "markdown",
   "metadata": {},
   "source": [
    "Les modules sont les portes d'accès aux bibliothèques de Python. Vous trouverez les références et les détails ici:\n",
    "\n",
    "* The Python Language Reference: http://docs.python.org/2/reference/index.html\n",
    "* The Python Standard Library: http://docs.python.org/2/library/\n",
    "\n",
    "Pour utiliser un module, il faut l'importer avec la commande `import`. Voici un exemple pour importer le module `math`, qui définit les fonctions mathématiques classiques:"
   ]
  },
  {
   "cell_type": "code",
   "execution_count": null,
   "metadata": {
    "collapsed": false
   },
   "outputs": [],
   "source": [
    "import math"
   ]
  },
  {
   "cell_type": "markdown",
   "metadata": {},
   "source": [
    "Il est possible d'utiliser les fonctions du module `math`\n",
    " tout de suite après, par exemple:"
   ]
  },
  {
   "cell_type": "code",
   "execution_count": null,
   "metadata": {
    "collapsed": false
   },
   "outputs": [],
   "source": [
    "import math\n",
    "\n",
    "x = math.cos(2 * math.pi)\n",
    "\n",
    "print (x)"
   ]
  },
  {
   "cell_type": "markdown",
   "metadata": {},
   "source": [
    "Après l'import, il faut préfixer toutes les méthodes et les objets, ce qui permet de lever des ambiguïtés à la lecture d'un code. Mais comme c'est contraignant, il est possible d'importer tout le module dans le *namespace* courant :"
   ]
  },
  {
   "cell_type": "code",
   "execution_count": null,
   "metadata": {
    "collapsed": false
   },
   "outputs": [],
   "source": [
    "from math import *\n",
    "\n",
    "x = cos(2 * pi)\n",
    "\n",
    "print(x)"
   ]
  },
  {
   "cell_type": "markdown",
   "metadata": {},
   "source": [
    "Pour concilier le meilleur des deux mondes, la bonne pratique recommandée est d'importer uniquement les méthodes nécessaires :"
   ]
  },
  {
   "cell_type": "code",
   "execution_count": null,
   "metadata": {
    "collapsed": false
   },
   "outputs": [],
   "source": [
    "from math import cos, pi\n",
    "\n",
    "x = cos(2 * pi)\n",
    "\n",
    "print(x)"
   ]
  },
  {
   "cell_type": "markdown",
   "metadata": {},
   "source": [
    "# Obtenir de l'aide en ligne"
   ]
  },
  {
   "cell_type": "markdown",
   "metadata": {},
   "source": [
    "Pour obtenir de l'aide en ligne avec IPython, vous pouvez taper un ? directement après l'objet, ou taper `help(`*objet*`)`"
   ]
  },
  {
   "cell_type": "code",
   "execution_count": null,
   "metadata": {
    "collapsed": false
   },
   "outputs": [],
   "source": [
    "help(math.log)"
   ]
  },
  {
   "cell_type": "code",
   "execution_count": null,
   "metadata": {
    "collapsed": false
   },
   "outputs": [],
   "source": [
    "math.exp?"
   ]
  },
  {
   "cell_type": "markdown",
   "metadata": {},
   "source": [
    "Il est aussi possible de demander de l'aide sur un module, par exemple avec `help(math)`."
   ]
  },
  {
   "cell_type": "markdown",
   "metadata": {},
   "source": [
    "# Variables"
   ]
  },
  {
   "cell_type": "markdown",
   "metadata": {},
   "source": [
    "## Typage"
   ]
  },
  {
   "cell_type": "markdown",
   "metadata": {},
   "source": [
    "Les variables sont dynamiquement typées, pas besoin de préciser si c'est un entier ou un réel."
   ]
  },
  {
   "cell_type": "code",
   "execution_count": null,
   "metadata": {
    "collapsed": false
   },
   "outputs": [],
   "source": [
    "type(x)"
   ]
  },
  {
   "cell_type": "code",
   "execution_count": null,
   "metadata": {
    "collapsed": false
   },
   "outputs": [],
   "source": [
    "x = 1\n",
    "type(x)"
   ]
  },
  {
   "cell_type": "markdown",
   "metadata": {},
   "source": [
    "## Les chaînes de caractères"
   ]
  },
  {
   "cell_type": "markdown",
   "metadata": {},
   "source": [
    "Les chaînes de caractères sont bornées par des `'` `'` ou des `\"` `\"`. On peut connaître leur longueur avec `len( )`. On peut voir les méthodes associées en utilisant l'auto-complétion avec la touche *tab*."
   ]
  },
  {
   "cell_type": "code",
   "execution_count": null,
   "metadata": {
    "collapsed": false
   },
   "outputs": [],
   "source": [
    "s = u\"une chaîne de caractères\" # u'chaine' pour indiquer une chaîne en unicode\n",
    "print ('taille de la chaine :',len(s))\n",
    "s2 = s.replace('une', 'la')\n",
    "print (s2)"
   ]
  },
  {
   "cell_type": "markdown",
   "metadata": {},
   "source": [
    "La chaîne de caractère est un tableau, on accède aux éléments du tableau avec [ ]. Attention, pour les utilisateurs de MATLAB, en Python les tableaux commencent toujours à partir de 0. On peut utiliser la syntaxe complète [début:incrément:fin] "
   ]
  },
  {
   "cell_type": "code",
   "execution_count": null,
   "metadata": {
    "collapsed": false
   },
   "outputs": [],
   "source": [
    "print (u'Le premier caractère est :'+ s[0])\n",
    "print (u'Les 10 premiers caractères sont :'+s[:11])\n",
    "print (u'Les caractères suivants sont :'+s[11:])\n",
    "print (u'Le dernier caractère est :'+s[-1])\n",
    "print (u'Avec un caractère sur deux :'+s[::3])"
   ]
  },
  {
   "cell_type": "markdown",
   "metadata": {},
   "source": [
    "## Les listes"
   ]
  },
  {
   "cell_type": "markdown",
   "metadata": {},
   "source": [
    "On peut arranger n'importe quel nombre d'éléments dans une liste. "
   ]
  },
  {
   "cell_type": "code",
   "execution_count": null,
   "metadata": {
    "collapsed": false
   },
   "outputs": [],
   "source": [
    "l = ['spam', 'eggs', 100, 1234]\n",
    "\n",
    "print (type(l))\n",
    "print ('la liste est :', l)\n",
    "print ('le premier élément de la liste est:', l[0])\n",
    "print ('Les 2 premiers éléments de la liste sont', l[:2])\n",
    "print ('Le dernier élément de la liste est', l[-1])"
   ]
  },
  {
   "cell_type": "markdown",
   "metadata": {},
   "source": [
    "Une liste peut être modifiée, concatenée, découpée, etc."
   ]
  },
  {
   "cell_type": "code",
   "execution_count": null,
   "metadata": {
    "collapsed": false
   },
   "outputs": [],
   "source": [
    "l + ['bacon', 12345]"
   ]
  },
  {
   "cell_type": "code",
   "execution_count": null,
   "metadata": {
    "collapsed": false
   },
   "outputs": [],
   "source": [
    "3*l[:3] + ['He!']"
   ]
  },
  {
   "cell_type": "code",
   "execution_count": null,
   "metadata": {
    "collapsed": false
   },
   "outputs": [],
   "source": [
    "l[2] = l[2] + 23\n",
    "print(l)"
   ]
  },
  {
   "cell_type": "code",
   "execution_count": null,
   "metadata": {
    "collapsed": false
   },
   "outputs": [],
   "source": [
    "q = [2, 3]\n",
    "p = [1, q, 4]\n",
    "\n",
    "print ('La taille de la liste p est', len(p), \"et c'est :\", p)\n",
    "print ('Le premier élément de la liste en 2e position est:', p[1][0]) "
   ]
  },
  {
   "cell_type": "code",
   "execution_count": null,
   "metadata": {
    "collapsed": false
   },
   "outputs": [],
   "source": [
    "l = list()\n",
    "l.append('p')\n",
    "l.append('o')\n",
    "l.append('t')\n",
    "\n",
    "print (l)\n",
    "l.sort()\n",
    "print (l)\n",
    "\n",
    "l.insert(0,'c')\n",
    "l.insert(1,'o')\n",
    "print (l)\n",
    "\n",
    "l.remove('t')\n",
    "print (l)"
   ]
  },
  {
   "cell_type": "markdown",
   "metadata": {},
   "source": [
    "# Contrôles d'exécution"
   ]
  },
  {
   "cell_type": "markdown",
   "metadata": {},
   "source": [
    "## Test conditionnel"
   ]
  },
  {
   "cell_type": "code",
   "execution_count": null,
   "metadata": {
    "collapsed": false
   },
   "outputs": [],
   "source": [
    "statement1 = False\n",
    "statement2 = False\n",
    "\n",
    "if statement1:\n",
    "    print(\"statement1 is True\")\n",
    "    \n",
    "elif statement2:\n",
    "    print(\"statement2 is True\")\n",
    "    \n",
    "else:\n",
    "    print(\"statement1 and statement2 are False\")"
   ]
  },
  {
   "cell_type": "markdown",
   "metadata": {},
   "source": [
    "Le python utilise l'indentation pour déterminer la portée des contrôles; il n'y a pas d'accolades {} ni de parenthèses ()."
   ]
  },
  {
   "cell_type": "code",
   "execution_count": null,
   "metadata": {
    "collapsed": false
   },
   "outputs": [],
   "source": [
    "statement1 = statement2 = True\n",
    "\n",
    "if statement1:\n",
    "    if statement2:\n",
    "        print(\"both statement1 and statement2 are True\") # ligne mal indentée"
   ]
  },
  {
   "cell_type": "markdown",
   "metadata": {},
   "source": [
    "## Boucles"
   ]
  },
  {
   "cell_type": "markdown",
   "metadata": {},
   "source": [
    "Les boucles `for` utilisent une syntaxe simple:"
   ]
  },
  {
   "cell_type": "code",
   "execution_count": null,
   "metadata": {
    "collapsed": false
   },
   "outputs": [],
   "source": [
    "for x in [1,2,3]:\n",
    "    print(x, end=' ')"
   ]
  },
  {
   "cell_type": "markdown",
   "metadata": {},
   "source": [
    "On a souvent recours à la fonction `range([[debut,]incrément,]fin)` dans les boucles. Attention, elle commence à zéro et finit avant `fin`. Par exemple, `range(4)` va de zéro à 3 mais n'inclut pas 4."
   ]
  },
  {
   "cell_type": "code",
   "execution_count": null,
   "metadata": {
    "collapsed": false
   },
   "outputs": [],
   "source": [
    "for x in range(10): # by default range start at 0\n",
    "    print(x, end=' ')\n",
    "print()\n",
    "\n",
    "for x in range(-4,5,2):\n",
    "    print(x, end=' ')\n",
    "print()\n",
    "\n",
    "for word in [\"scientific\", \"computing\", \"with\", \"python\"]:\n",
    "    print(word, end=' ')\n",
    "print()"
   ]
  },
  {
   "cell_type": "markdown",
   "metadata": {},
   "source": [
    "La fonction `enumerate` est parfois utile pour les boucles."
   ]
  },
  {
   "cell_type": "code",
   "execution_count": null,
   "metadata": {
    "collapsed": false
   },
   "outputs": [],
   "source": [
    "mes_notes = [15, 12, 8, 16, 13]\n",
    "for i, note in enumerate(mes_notes):\n",
    "    print ('Note', i+1, ':', note)"
   ]
  },
  {
   "cell_type": "markdown",
   "metadata": {},
   "source": [
    "La boucle `while` ne présente pas de surprises:"
   ]
  },
  {
   "cell_type": "code",
   "execution_count": null,
   "metadata": {
    "collapsed": false
   },
   "outputs": [],
   "source": [
    "i = 0\n",
    "\n",
    "while i < 5:\n",
    "    print(i, end=' ')\n",
    "    \n",
    "    i = i + 1\n",
    "    \n",
    "print(\"\\ndone\")"
   ]
  },
  {
   "cell_type": "markdown",
   "metadata": {},
   "source": [
    "## Fonctions"
   ]
  },
  {
   "cell_type": "code",
   "execution_count": null,
   "metadata": {
    "collapsed": false
   },
   "outputs": [],
   "source": [
    "def func0():   \n",
    "    print(\"test\")"
   ]
  },
  {
   "cell_type": "code",
   "execution_count": null,
   "metadata": {
    "collapsed": false
   },
   "outputs": [],
   "source": [
    "func0()"
   ]
  },
  {
   "cell_type": "markdown",
   "metadata": {},
   "source": [
    "Il vaut mieux prendre les bonnes habitudes tout de suite et documenter les fonctions avec des docstrings, des chaînes de caractères situées juste après la définition de la fonction."
   ]
  },
  {
   "cell_type": "code",
   "execution_count": null,
   "metadata": {
    "collapsed": false
   },
   "outputs": [],
   "source": [
    "def func1(s):\n",
    "    \"\"\"\n",
    "    func1, une fonction bien documentée\n",
    "    \n",
    "    Affiche une string 's' et indique son nombre de caractères\n",
    "    \"\"\"\n",
    "    \n",
    "    print(s + \" a \" + str(len(s)) + \" caractères\")"
   ]
  },
  {
   "cell_type": "code",
   "execution_count": null,
   "metadata": {
    "collapsed": false
   },
   "outputs": [],
   "source": [
    "help(func1)\n",
    "func1(\"toto\")"
   ]
  },
  {
   "cell_type": "markdown",
   "metadata": {},
   "source": [
    "Une fonction peut retourner une ou plusieurs valeurs:"
   ]
  },
  {
   "cell_type": "code",
   "execution_count": null,
   "metadata": {
    "collapsed": false
   },
   "outputs": [],
   "source": [
    "def carre(x):\n",
    "    \"\"\"\n",
    "    Retourne le carré de x.\n",
    "    \"\"\"\n",
    "    return x ** 2\n",
    "\n",
    "def puissance(x):\n",
    "    \"\"\"\n",
    "    Retourne quelques puissances de x.\n",
    "    \"\"\"\n",
    "    return x ** 2, x ** 3, x ** 4\n",
    "\n",
    "print ('Le carré de 3 est', carre(3))\n",
    "x2, x3, x4 = puissance(16)\n",
    "print('Les premières puissances de 16 sont:', x2, x3, x4)"
   ]
  },
  {
   "cell_type": "markdown",
   "metadata": {},
   "source": [
    "Il est possible de donner des arguments par défaut à une fonction:"
   ]
  },
  {
   "cell_type": "code",
   "execution_count": null,
   "metadata": {
    "collapsed": false
   },
   "outputs": [],
   "source": [
    "def mafonc(x, p=2, debug=False):\n",
    "    \"\"\"\n",
    "    Calcule x à la puissance p. p vaut 2 par défaut.\n",
    "    \"\"\"\n",
    "    if debug:\n",
    "        print(\"evaluation de mafonc pour x = \" + str(x) + \n",
    "              \" en utilisant comme exposant p = \" + str(p))\n",
    "    return x**p\n",
    "\n",
    "print ('Le résultat est :', mafonc(5))\n",
    "mafonc(5, debug=True)\n",
    "mafonc(p=3, debug=True, x=7)"
   ]
  },
  {
   "cell_type": "markdown",
   "metadata": {},
   "source": [
    "Ce notebook est une adaptation de [celui](http://github.com/jrjohansson/scientific-python-lectures) de J.R. Johansson (robert@riken.jp) http://dml.riken.jp/~rob/, ainsi que du tutoriel Python de Guido van Rossum & Fred Drake."
   ]
  }
 ],
 "metadata": {
  "kernelspec": {
   "display_name": "Python 2",
   "language": "python",
   "name": "python2"
  },
  "language_info": {
   "codemirror_mode": {
    "name": "ipython",
    "version": 2
   },
   "file_extension": ".py",
   "mimetype": "text/x-python",
   "name": "python",
   "nbconvert_exporter": "python",
   "pygments_lexer": "ipython2",
   "version": "2.7.9"
  }
 },
 "nbformat": 4,
 "nbformat_minor": 0
}
