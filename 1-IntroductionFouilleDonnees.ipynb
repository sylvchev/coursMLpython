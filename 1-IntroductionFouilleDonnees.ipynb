{
 "cells": [
  {
   "cell_type": "code",
   "execution_count": null,
   "metadata": {
    "collapsed": false
   },
   "outputs": [],
   "source": [
    "from __future__ import print_function"
   ]
  },
  {
   "cell_type": "markdown",
   "metadata": {},
   "source": [
    "# Introduction à la fouille de donnée"
   ]
  },
  {
   "cell_type": "markdown",
   "metadata": {},
   "source": [
    "## Récupération des données"
   ]
  },
  {
   "cell_type": "markdown",
   "metadata": {},
   "source": [
    "Pour commencer, on télécharge les données des vins rouges et blancs [du dépôt de UCI](https://archive.ics.uci.edu/ml/datasets/Wine+Quality). Ces données sont tirées de :\n",
    "\n",
    "P. Cortez, A. Cerdeira, F. Almeida, T. Matos and J. Reis. Modeling wine preferences by data mining from physicochemical properties. In Decision Support Systems, Elsevier, 47(4):547-553, 2009."
   ]
  },
  {
   "cell_type": "code",
   "execution_count": null,
   "metadata": {
    "collapsed": false
   },
   "outputs": [],
   "source": [
    "!wget https://archive.ics.uci.edu/ml/machine-learning-databases/wine-quality/winequality-red.csv"
   ]
  },
  {
   "cell_type": "code",
   "execution_count": null,
   "metadata": {
    "collapsed": false
   },
   "outputs": [],
   "source": [
    "!wget https://archive.ics.uci.edu/ml/machine-learning-databases/wine-quality/winequality-white.csv"
   ]
  },
  {
   "cell_type": "markdown",
   "metadata": {},
   "source": [
    "## Exploration des données"
   ]
  },
  {
   "cell_type": "markdown",
   "metadata": {},
   "source": [
    "On utilise pandas pour explorer les données"
   ]
  },
  {
   "cell_type": "code",
   "execution_count": null,
   "metadata": {
    "collapsed": false
   },
   "outputs": [],
   "source": [
    "import pandas\n",
    "reds = pandas.read_csv('winequality-red.csv', sep=';')\n",
    "reds.head(5)"
   ]
  },
  {
   "cell_type": "code",
   "execution_count": null,
   "metadata": {
    "collapsed": false
   },
   "outputs": [],
   "source": [
    "whites = pandas.read_csv('winequality-white.csv', sep=';')\n",
    "whites.head(5)"
   ]
  },
  {
   "cell_type": "markdown",
   "metadata": {},
   "source": [
    "Voyons quelles sont les statistiques basiques pour ces vins :"
   ]
  },
  {
   "cell_type": "code",
   "execution_count": null,
   "metadata": {
    "collapsed": false
   },
   "outputs": [],
   "source": [
    "wines = whites.append(reds)\n",
    "print ('Il y a', len(wines), 'vins en tout (rouges + blancs)')\n",
    "print (\"Verifions qu'il y a bien\", len(reds) + len(whites), 'vins en tout')"
   ]
  },
  {
   "cell_type": "code",
   "execution_count": null,
   "metadata": {
    "collapsed": false
   },
   "outputs": [],
   "source": [
    "wines.describe()"
   ]
  },
  {
   "cell_type": "markdown",
   "metadata": {},
   "source": [
    "Comment est distribuée la valeur de qualité ?"
   ]
  },
  {
   "cell_type": "code",
   "execution_count": null,
   "metadata": {
    "collapsed": false
   },
   "outputs": [],
   "source": [
    "wines.quality.value_counts()"
   ]
  },
  {
   "cell_type": "markdown",
   "metadata": {},
   "source": [
    "Quels vins ont obtenu la note maximum, c'est-à-dire 9 ?"
   ]
  },
  {
   "cell_type": "code",
   "execution_count": null,
   "metadata": {
    "collapsed": false
   },
   "outputs": [],
   "source": [
    "wines[wines.quality == 9]"
   ]
  },
  {
   "cell_type": "markdown",
   "metadata": {},
   "source": [
    "## Quelques figures"
   ]
  },
  {
   "cell_type": "code",
   "execution_count": null,
   "metadata": {
    "collapsed": false
   },
   "outputs": [],
   "source": [
    "%matplotlib inline\n",
    "import matplotlib.pyplot as plt"
   ]
  },
  {
   "cell_type": "markdown",
   "metadata": {},
   "source": [
    "Comment varie le pH parmi les vins ?"
   ]
  },
  {
   "cell_type": "code",
   "execution_count": null,
   "metadata": {
    "collapsed": false
   },
   "outputs": [],
   "source": [
    "fig, ax = plt.subplots(figsize=(10, 5))\n",
    "plt.plot(reds.index, reds.pH, 'ro')\n",
    "ax.set_title('Vins vs pH')\n",
    "ax.set_xlabel('Indice des vins')\n",
    "ax.set_ylabel('pH')"
   ]
  },
  {
   "cell_type": "markdown",
   "metadata": {},
   "source": [
    "Regardons seulement les 10 premiers vins rouges"
   ]
  },
  {
   "cell_type": "code",
   "execution_count": null,
   "metadata": {
    "collapsed": false
   },
   "outputs": [],
   "source": [
    "#reds[:10].pH.plot(kind='bar', title=\"Vins vs pH\")\n",
    "\n",
    "whites[:50].chlorides.plot(kind='bar', title='Vins blancs et chlorides')"
   ]
  },
  {
   "cell_type": "code",
   "execution_count": null,
   "metadata": {
    "collapsed": false
   },
   "outputs": [],
   "source": [
    "reds.sort('pH', ascending=False).pH[:25].plot(kind='bar')"
   ]
  },
  {
   "cell_type": "markdown",
   "metadata": {},
   "source": [
    "Affichons la matrice de distribution de toutes les caractéristiques du vin rouge:"
   ]
  },
  {
   "cell_type": "code",
   "execution_count": null,
   "metadata": {
    "collapsed": false
   },
   "outputs": [],
   "source": [
    "from pandas.tools.plotting import scatter_matrix\n",
    "tmp = scatter_matrix(reds, alpha=0.2, figsize=(20,20))"
   ]
  },
  {
   "cell_type": "markdown",
   "metadata": {},
   "source": [
    "Quelles propriétés distinguent les rouges des blancs ?"
   ]
  },
  {
   "cell_type": "code",
   "execution_count": null,
   "metadata": {
    "collapsed": false
   },
   "outputs": [],
   "source": [
    "from pandas.tools.plotting import parallel_coordinates"
   ]
  },
  {
   "cell_type": "markdown",
   "metadata": {},
   "source": [
    "On ajoute une nouvelle colonne qui indique le type de vin et on fusionne tous les vins dans un *dataframe*. Nous ne garderons que quelques propriétés pour cette analyse."
   ]
  },
  {
   "cell_type": "code",
   "execution_count": null,
   "metadata": {
    "collapsed": false
   },
   "outputs": [],
   "source": [
    "reds['kind'] = 'red'\n",
    "whites['kind'] = 'white'\n",
    "wines = reds.append(whites)\n",
    "sub_wines = wines[['alcohol', 'pH', 'density', 'chlorides', 'kind']]"
   ]
  },
  {
   "cell_type": "markdown",
   "metadata": {},
   "source": [
    "On va maintenant afficher chaque vin comme une ligne traversant toutes les colonnes de propriétés, en coupant l'axe à la hauteur de sa valeur. Les blancs et les rouges sont représentés dans des couleurs différentes."
   ]
  },
  {
   "cell_type": "code",
   "execution_count": null,
   "metadata": {
    "collapsed": false
   },
   "outputs": [],
   "source": [
    "parallel_coordinates(sub_wines, 'kind', alpha=0.2, color=['y', 'r'])"
   ]
  },
  {
   "cell_type": "markdown",
   "metadata": {},
   "source": [
    "Le résultat est difficile à interpréter car les caractéristiques ne sont pas normalisées."
   ]
  },
  {
   "cell_type": "code",
   "execution_count": null,
   "metadata": {
    "collapsed": false
   },
   "outputs": [],
   "source": [
    "sub_wines = wines[['alcohol', 'pH', 'density', 'chlorides']]\n",
    "sub_wines = (sub_wines - sub_wines.mean()) / (sub_wines.max() - sub_wines.min())\n",
    "sub_wines['kind'] = wines['kind']\n",
    "parallel_coordinates(sub_wines, 'kind', alpha=0.2, colors=['y', 'r'])"
   ]
  },
  {
   "cell_type": "markdown",
   "metadata": {},
   "source": [
    "Les vins rouges et blancs semblent principalement différer par leur valeur de chloride."
   ]
  },
  {
   "cell_type": "markdown",
   "metadata": {},
   "source": [
    "## Classification des vins rouges et blancs"
   ]
  },
  {
   "cell_type": "markdown",
   "metadata": {},
   "source": [
    "Voyons si on peut entrainer un algorithme à reconnaître les vins rouges des vins blancs. On définit le vecteur d'entrée comme étant toutes les colonnes sauf la colonne 'kind' (qui contient la classe du vin)."
   ]
  },
  {
   "cell_type": "code",
   "execution_count": null,
   "metadata": {
    "collapsed": false
   },
   "outputs": [],
   "source": [
    "from sklearn.linear_model import LogisticRegression\n",
    "from sklearn.cross_validation import cross_val_score\n",
    "X = wines.iloc[:, 0:-1]\n",
    "X.head()"
   ]
  },
  {
   "cell_type": "markdown",
   "metadata": {},
   "source": [
    "La sortie attendue est la colonne *'kind'*, qui est le type du vin. Il faut la convertir pour que le vin rouge soit étiqueté 0 et le vin blanc 1."
   ]
  },
  {
   "cell_type": "code",
   "execution_count": null,
   "metadata": {
    "collapsed": false
   },
   "outputs": [],
   "source": [
    "y = wines.kind\n",
    "y = y.apply(lambda val: 0 if val == 'white' else 1)\n",
    "y.head()"
   ]
  },
  {
   "cell_type": "markdown",
   "metadata": {},
   "source": [
    "On crée un classifieur de type regression logistique. Voir http://scikit-learn.org/stable/modules/linear_model.html#logistic-regression pour plus de détails. Nous allons entraîner et évaluer 5 classifieurs sur 5 sous-ensembles des données, les explications sont sur http://scikit-learn.org/stable/modules/cross_validation.html#computing-cross-validated-metrics."
   ]
  },
  {
   "cell_type": "code",
   "execution_count": null,
   "metadata": {
    "collapsed": false
   },
   "outputs": [],
   "source": [
    "clf = LogisticRegression()\n",
    "scores = cross_val_score(clf, X, y, cv=5)\n",
    "print (\"Accuracy: %0.2f%% (+/- %0.2f)\" % (scores.mean()*100, scores.std() * 200))"
   ]
  },
  {
   "cell_type": "markdown",
   "metadata": {},
   "source": [
    "Les caractéristiques ne sont pas normalisées, ce qui peut dégrader largement les performances des classifieurs. Voir http://scikit-learn.org/stable/modules/preprocessing.html. Nous allons prétraiter les données pour qu'elles aient une moyenne nulle et une variance unitaire. Les données prétraitées ne sont plus un *dataFrame* mais un *numpy array* (généralisation des matrices)."
   ]
  },
  {
   "cell_type": "code",
   "execution_count": null,
   "metadata": {
    "collapsed": false
   },
   "outputs": [],
   "source": [
    "from sklearn.preprocessing import scale\n",
    "X_std = scale(X)\n",
    "X_std"
   ]
  },
  {
   "cell_type": "markdown",
   "metadata": {},
   "source": [
    "Entraînons et testons le classifieur avec les données normalisées:"
   ]
  },
  {
   "cell_type": "code",
   "execution_count": null,
   "metadata": {
    "collapsed": false
   },
   "outputs": [],
   "source": [
    "scores_std = cross_val_score(clf, X_std, y, cv=5)\n",
    "print (\"Accuracy: %0.2f%% (+/- %0.2f)\" % (scores_std.mean()*100, scores_std.std() * 200))"
   ]
  },
  {
   "cell_type": "markdown",
   "metadata": {},
   "source": [
    "La normalisation a permis de gagner 1% sur la précision."
   ]
  },
  {
   "cell_type": "markdown",
   "metadata": {},
   "source": [
    "Ce notebook est adapté de Peter Parente, [Data Science and IPython](http://tott-meetup.readthedocs.org/en/latest/sessions/ipython.html) du meetup Tools of the Trade."
   ]
  }
 ],
 "metadata": {
  "kernelspec": {
   "display_name": "Python [Root]",
   "language": "python",
   "name": "Python [Root]"
  },
  "language_info": {
   "codemirror_mode": {
    "name": "ipython",
    "version": 2
   },
   "file_extension": ".py",
   "mimetype": "text/x-python",
   "name": "python",
   "nbconvert_exporter": "python",
   "pygments_lexer": "ipython2",
   "version": "2.7.12"
  }
 },
 "nbformat": 4,
 "nbformat_minor": 0
}
